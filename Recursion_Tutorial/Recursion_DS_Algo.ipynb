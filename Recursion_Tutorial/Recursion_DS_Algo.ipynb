{
 "cells": [
  {
   "cell_type": "markdown",
   "source": [
    "Data Structures and Algorithms Basics"
   ],
   "metadata": {}
  },
  {
   "cell_type": "markdown",
   "source": [
    "RECURSION ALGORITHM: Recursion can be defined as a way of solving problems by having a function call itself. \n",
    "Properties of Recursion:\n",
    "1. Performing the same operation multiple times with the different inputs.\n",
    "2. In every step we try smaller inputs to make the problem smaller\n",
    "3. Base condition is needed to stop the recursion, otherwise an infinite loop will occur. "
   ],
   "metadata": {}
  },
  {
   "cell_type": "code",
   "execution_count": 21,
   "source": [
    "print(\"Hello World\")"
   ],
   "outputs": [
    {
     "output_type": "stream",
     "name": "stdout",
     "text": [
      "Hello World\n"
     ]
    }
   ],
   "metadata": {}
  },
  {
   "cell_type": "markdown",
   "source": [
    "When to use Recursion?\n",
    "1. If you can divide the problem into similar sub problems\n",
    "2. Design an algorithm to compute the nth\n",
    "3. Write code to list the n\n",
    "4. Implement a method to compute all\n",
    "5. Practice\n",
    "\n",
    "The prominent usage of recursion in datastructures like trees and graph.\n",
    "Recursion is very important in programming as it helps us to break down big problems into smaller ones and easier to use.\n",
    "It is discussed in Interviews.\n",
    "It is also used in many algorithms (divide and conquer, greedy and dynamic progamming)"
   ],
   "metadata": {}
  },
  {
   "cell_type": "markdown",
   "source": [
    "How does Recursion Work?\n",
    "1. A method calls itself\n",
    "2. Exit from infinite loop\n",
    "\n",
    "Recursion algorithms are very space inefficient. As no stack memory is required in case of Iteration. Stacks follow LIFO method.\n",
    "Recursion algrothms are very time inefficient. In case of recursion system it needs more time for pop and push elements to stack memory which makes recursion time inefficient.\n",
    "Recursion method is easier to write and understand.\n",
    "The processor and memory power it requires is greater compared to iterative methods.\n",
    "We use recursion in problems where we know the problem can be broken down into smaller parts.\n",
    "\n",
    "\n",
    "When to use Recursion? When we can easily breakdown a problem into similar subproblems. When we are fine with the extra overhead (both time and space that comes with it). When we need a quick working solution instead of an efficient one.\n",
    "It is also used when using a traverse tree.\n",
    "When we use memorization in recursion.\n",
    "\n",
    "When not to use? If time and space complexity matters. Recursion uses memory so if we use embedded memeory we are advised not to use recursion. For example an application that takes more memory in the mobile is not useful. Recursion can be slow.\n"
   ],
   "metadata": {}
  },
  {
   "cell_type": "markdown",
   "source": [
    "How to write recursion in 3 Steps? \n",
    "1. Recursive Case the flow\n",
    "2. Base Condition: Stopping critieria of the condition\n",
    "3. Unintensional case such as a negative number in the below cases"
   ],
   "metadata": {}
  },
  {
   "cell_type": "markdown",
   "source": [
    "FACTORIAL EXCERCISE:"
   ],
   "metadata": {}
  },
  {
   "cell_type": "code",
   "execution_count": 22,
   "source": [
    "def factorial(n):\n",
    "    assert n >= 0 and int(n) == n, \"The number must be positive integer\"\n",
    "    if n in [0,1]:\n",
    "        return 1\n",
    "    else:\n",
    "        return n * factorial(n-1) \n",
    "\n",
    "print(factorial(4))\n"
   ],
   "outputs": [
    {
     "output_type": "stream",
     "name": "stdout",
     "text": [
      "24\n"
     ]
    }
   ],
   "metadata": {}
  },
  {
   "cell_type": "markdown",
   "source": [
    "FIBONACCI EXCERCISE:"
   ],
   "metadata": {}
  },
  {
   "cell_type": "code",
   "execution_count": 23,
   "source": [
    "def fibonacci(n):\n",
    "    assert n >= 0 and int(n) == n, \"Fibonacci number must be positive and integer\"\n",
    "    if n in [0,1]:\n",
    "        return n\n",
    "    else:\n",
    "        return fibonacci(n-1) + fibonacci(n-2)\n",
    "\n",
    "print(fibonacci(13))"
   ],
   "outputs": [
    {
     "output_type": "stream",
     "name": "stdout",
     "text": [
      "233\n"
     ]
    }
   ],
   "metadata": {}
  },
  {
   "cell_type": "markdown",
   "source": [
    "FIND THE SUM OF DGITS OF A POSITIVE NUMBER USING RECURSION"
   ],
   "metadata": {}
  },
  {
   "cell_type": "code",
   "execution_count": 24,
   "source": [
    "### To find sum of digits of a positive number using recursion. We can divide the given number let us say n by 10 and then add the quotient and remainder.\n",
    "### f(n) = f(n/10) + n%10\n",
    "\n",
    "def sumofdigits(n):\n",
    "    assert n >= 0 and int(n) == n, \" The number must be positve \"\n",
    "    if n in [0,1]:\n",
    "        return 0\n",
    "    return int(n%10) + sumofdigits(int(n//10))\n",
    "\n",
    "sumofdigits(22)\n",
    "\n"
   ],
   "outputs": [
    {
     "output_type": "execute_result",
     "data": {
      "text/plain": [
       "4"
      ]
     },
     "metadata": {},
     "execution_count": 24
    }
   ],
   "metadata": {}
  },
  {
   "cell_type": "markdown",
   "source": [
    "How to Calculate power of a number using recursion?\n",
    "\n",
    "Power of any number 2^4 has two components where 2 is the base and exponent is 4.\n",
    "\n",
    "Base expression: 2^4 = 2 * 2^(4-1)\n",
    "                 2^n = 2* 2^(n-1)"
   ],
   "metadata": {}
  },
  {
   "cell_type": "code",
   "execution_count": 3,
   "source": [
    "def power(base,exp):\n",
    "    assert exp >= 0 and int(exp) == exp, \"The exponent shall be a positive and integer\"\n",
    "    if exp == 0:\n",
    "        return 1\n",
    "    if exp == 1:\n",
    "        return base\n",
    "    else:\n",
    "        return base * power(base,exp-1)\n",
    "\n",
    "print(power(2,4))"
   ],
   "outputs": [
    {
     "output_type": "stream",
     "name": "stdout",
     "text": [
      "16\n"
     ]
    }
   ],
   "metadata": {}
  },
  {
   "cell_type": "markdown",
   "source": [
    "How to find Greatest Common Divisior of two numbers using recursion?\n",
    "\n",
    "Step 1: Base Condition: return gcd(b,a mod b)\n",
    "Step 2: When b is equal to 0 then return a\n",
    "step 3: Assert condition for number to be positive integer only and condition for negative numbers to multiplied by -1."
   ],
   "metadata": {}
  },
  {
   "cell_type": "code",
   "execution_count": 13,
   "source": [
    "def gcd(a,b):\n",
    "    assert int(a) == a and int(b) == b, \"The numbers must be positive and integer only\"\n",
    "    if a < 0:\n",
    "        a = -1*a\n",
    "    if b < 0:\n",
    "        b = -1*b\n",
    "    if b == 0:\n",
    "        return a\n",
    "    else:\n",
    "        return gcd(b, a%b)\n",
    "\n",
    "gcd(12,36)"
   ],
   "outputs": [
    {
     "output_type": "execute_result",
     "data": {
      "text/plain": [
       "12"
      ]
     },
     "metadata": {},
     "execution_count": 13
    }
   ],
   "metadata": {}
  },
  {
   "cell_type": "markdown",
   "source": [
    "How to convert decimal number to Binary?\n",
    "\n",
    "Decimal to binary using recursion?\n",
    "\n",
    "Step 1: Base Condition: return n%2 + 10 * f(n/2)\n",
    "Step 2: Break Condition: When n is 0 result is 0\n",
    "Step 3: Assert condition for number to be positive and integer only."
   ],
   "metadata": {}
  },
  {
   "cell_type": "code",
   "execution_count": 16,
   "source": [
    "def decimaltobinary(n):\n",
    "    assert int(n) == n, \"The numbers must be positive integer only\"\n",
    "    if n == 0:\n",
    "        return 0\n",
    "    else:\n",
    "        return n%2 + 10 * decimaltobinary(int(n/2))\n",
    "\n",
    "print(decimaltobinary(10))"
   ],
   "outputs": [
    {
     "output_type": "stream",
     "name": "stdout",
     "text": [
      "1010\n"
     ]
    }
   ],
   "metadata": {}
  },
  {
   "cell_type": "markdown",
   "source": [
    "Product of Array using Recursion?"
   ],
   "metadata": {}
  },
  {
   "cell_type": "code",
   "execution_count": 23,
   "source": [
    "def productofArray(arr):\n",
    "    if len(arr) == 0:\n",
    "        return 1\n",
    "    else:\n",
    "        return arr[0] * productofArray(arr[1:])\n",
    "print(productofArray([1,2,3]))"
   ],
   "outputs": [
    {
     "output_type": "stream",
     "name": "stdout",
     "text": [
      "6\n"
     ]
    }
   ],
   "metadata": {}
  },
  {
   "cell_type": "markdown",
   "source": [
    "Write a function called Recursive Range which accepts a number and adds up all the numbers from 0 to the number passed to a the function?"
   ],
   "metadata": {}
  },
  {
   "cell_type": "code",
   "execution_count": 29,
   "source": [
    "def recursiveRange(n):\n",
    "    assert n >= 0 and int(n) == n, \"The number must be a positive integer\"\n",
    "    if n == 0:\n",
    "        return 0\n",
    "    else:\n",
    "        return n + recursiveRange(n-1)\n",
    "\n",
    "recursiveRange(6)"
   ],
   "outputs": [
    {
     "output_type": "execute_result",
     "data": {
      "text/plain": [
       "21"
      ]
     },
     "metadata": {},
     "execution_count": 29
    }
   ],
   "metadata": {}
  },
  {
   "cell_type": "markdown",
   "source": [
    "Write a program to Reverse a string?"
   ],
   "metadata": {}
  },
  {
   "cell_type": "code",
   "execution_count": 37,
   "source": [
    "def reverse(strig):\n",
    "    if len(strig) <= 1:\n",
    "        return strig\n",
    "    else:\n",
    "        return strig[len(strig)-1] + reverse(strig[0:len(strig)-1])\n",
    "\n",
    "print(reverse(\"python\"))"
   ],
   "outputs": [
    {
     "output_type": "stream",
     "name": "stdout",
     "text": [
      "nohtyp\n"
     ]
    }
   ],
   "metadata": {}
  },
  {
   "cell_type": "code",
   "execution_count": 38,
   "source": [
    "def reverse(strng):\n",
    "    if len(strng) <= 1:\n",
    "      return strng\n",
    "    return strng[len(strng)-1] + reverse(strng[0:len(strng)-1])\n",
    "    \n",
    "print(reverse(\"help\"))"
   ],
   "outputs": [
    {
     "output_type": "stream",
     "name": "stdout",
     "text": [
      "pleh\n"
     ]
    }
   ],
   "metadata": {}
  },
  {
   "cell_type": "code",
   "execution_count": 1,
   "source": [
    "def reverse(strng):\n",
    "    if len(strng) <= 1:\n",
    "        return strng\n",
    "    else:\n",
    "        return strng[len(strng) - 1] + reverse(strng[0:len(strng)-1])\n",
    "\n",
    "reverse(\"PYTHON\") "
   ],
   "outputs": [
    {
     "output_type": "execute_result",
     "data": {
      "text/plain": [
       "'NOHTYP'"
      ]
     },
     "metadata": {},
     "execution_count": 1
    }
   ],
   "metadata": {}
  },
  {
   "cell_type": "markdown",
   "source": [
    "PALINDROME QUESTION USING RECURSION?"
   ],
   "metadata": {}
  },
  {
   "cell_type": "code",
   "execution_count": 3,
   "source": [
    "def isPalindrome(strng):\n",
    "    if len(strng) == 0:\n",
    "        return True\n",
    "    if strng[0] != strng[len(strng)-1]:\n",
    "        return False\n",
    "    else:\n",
    "        return isPalindrome(strng[1:-1])\n",
    "\n",
    "isPalindrome(\"tacocat\")"
   ],
   "outputs": [
    {
     "output_type": "execute_result",
     "data": {
      "text/plain": [
       "True"
      ]
     },
     "metadata": {},
     "execution_count": 3
    }
   ],
   "metadata": {}
  },
  {
   "cell_type": "markdown",
   "source": [
    "Flatten Question: It accepts an array of arrays and returns a new array."
   ],
   "metadata": {}
  },
  {
   "cell_type": "code",
   "execution_count": 4,
   "source": [
    "def flatten(arr):\n",
    "    resultarr = []\n",
    "    for custItem in arr:\n",
    "        if type(custItem) is list:\n",
    "            resultarr.extend(flatten(custItem))\n",
    "        else:\n",
    "            resultarr.append(custItem)\n",
    "    \n",
    "    return resultarr\n",
    "flatten([1,2,3,4,[5,6]])"
   ],
   "outputs": [
    {
     "output_type": "execute_result",
     "data": {
      "text/plain": [
       "[1, 2, 3, 4, 5, 6]"
      ]
     },
     "metadata": {},
     "execution_count": 4
    }
   ],
   "metadata": {}
  },
  {
   "cell_type": "markdown",
   "source": [
    "Capitalize First Solution"
   ],
   "metadata": {}
  },
  {
   "cell_type": "code",
   "execution_count": 6,
   "source": [
    "def capitalize(arr):\n",
    "    result = []\n",
    "    if len(arr) == 0:\n",
    "        return result\n",
    "    else:\n",
    "        result.append(arr[0][0].upper() + arr[0][1:])\n",
    "        return result + capitalize(arr[1:])\n",
    "\n",
    "capitalize([\"car\",\"bat\"])"
   ],
   "outputs": [
    {
     "output_type": "execute_result",
     "data": {
      "text/plain": [
       "['Car', 'Bat']"
      ]
     },
     "metadata": {},
     "execution_count": 6
    }
   ],
   "metadata": {}
  }
 ],
 "metadata": {
  "orig_nbformat": 4,
  "language_info": {
   "name": "python",
   "version": "3.8.8",
   "mimetype": "text/x-python",
   "codemirror_mode": {
    "name": "ipython",
    "version": 3
   },
   "pygments_lexer": "ipython3",
   "nbconvert_exporter": "python",
   "file_extension": ".py"
  },
  "kernelspec": {
   "name": "python3",
   "display_name": "Python 3.8.8 64-bit ('anaconda3': conda)"
  },
  "interpreter": {
   "hash": "6ce824ff5f4b21e1870c0a788fccd18759a4ebb0bc13b255fdea0cdb3e239b33"
  }
 },
 "nbformat": 4,
 "nbformat_minor": 2
}