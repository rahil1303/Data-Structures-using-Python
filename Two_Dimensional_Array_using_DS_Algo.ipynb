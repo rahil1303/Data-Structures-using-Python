{
 "cells": [
  {
   "cell_type": "markdown",
   "source": [
    "BASICS OF DATA STRUCTURES AND ALGORITHMS\n",
    "\n",
    "ARRAYS: It is defined as the collection of similar types of data items stored at contiguous memory locations. It is basically stores multiple items of a same type together.\n",
    "\n",
    "Properties of ARRAYS:\n",
    "1. Arrays can store data of a specified type. \n",
    "2. Elements of an array are located in a contiguous. \n",
    "3. Each element of an array has a unique index.\n",
    "4. The size of an array is predefined and cannot be modified.\n",
    "\n",
    "AN ARRAY IS A DATA STRUCTURE CONSISTING OF A COLLECTION OF ELEMENTS EACH IDENTIFIED BY ATLEAST ONE ARRAY INDEX OR KEY. AN ARRAY IS STORED SUCH THAT THE POSITION OF EACH ELEMENT CAN BE COMPUTED FROM ITS INDEX BY A MATHEMATICAL FORMULA. \n",
    "\n",
    "TYPES OF ARRAYS:\n",
    "1. ONE DIMENSIONAL ARRAY: It is an array with a bunch of values having been declared with a single index. a[i] between 0 and n.\n",
    "2. TWO DIMENSIONAL ARRAY: An array with a bunch of values having been declared with a double index. a[i] [j]-> i and j between 0 and n.\n",
    "3. THREE DIMENSIONAL ARRAY: An array with a bunch of values having been declared with a triple index. \n",
    "a[i][j][k]-> i,j,k between 0 and n. a[0][0][1] where i = depth, j = row, k = column.\n",
    "\n",
    "\n",
    "IMPORTANT NOTE: AN ARRAY ELEMENTS MUST ALWAYS BE LOCATED NEXT TO EACH OTHER IN THE MEMORY.\n",
    "\n",
    "TWO DIMENSIONAL ARRAY: An array with a bunch of values having been declared with double index. a[i][j]-> i and j between 0 and n. It can also be defined as a collection of 1-Dimensional Arrays. Mostly used in Matrix operations. i denotes row number and j denotes column number.\n",
    "\n",
    "When we create an arrays following are the steps to be followed:\n",
    "1. Assign it to a variable\n",
    "2. Define the type of elements that it will store.\n",
    "3. Define it's size (the maximum number of elements)"
   ],
   "metadata": {}
  },
  {
   "cell_type": "markdown",
   "source": [
    "Create a 2_D Array"
   ],
   "metadata": {}
  },
  {
   "cell_type": "code",
   "execution_count": 1,
   "source": [
    "import numpy as np\n",
    "\n",
    "twoDarray = np.array([[11,15,10,6],[10,14,11,5],[12,17,12,8],[15,18,14,9]])\n",
    "print(twoDarray)\n",
    "\n",
    "#Time Complexity = O(1)"
   ],
   "outputs": [
    {
     "output_type": "stream",
     "name": "stdout",
     "text": [
      "[[11 15 10  6]\n",
      " [10 14 11  5]\n",
      " [12 17 12  8]\n",
      " [15 18 14  9]]\n"
     ]
    }
   ],
   "metadata": {}
  },
  {
   "cell_type": "markdown",
   "source": [
    "Insertion-Two Dimensional Array\n",
    "\n",
    "Adding a Column in a 2-D Array: We use the numpy library as np. So the expression goes about \"np.insert(<arrayname>,<position of row or column we are adding>,<have double brackets and add the values you need to add>, <select axis parameter it can be 0 for row and 1 for adding column>)"
   ],
   "metadata": {}
  },
  {
   "cell_type": "code",
   "execution_count": 3,
   "source": [
    "new2Darray = np.insert(twoDarray, 0,[[1,2,3,4]], axis = 1)\n",
    "print(new2Darray)\n",
    "\n",
    "\n",
    "new2Darray = np.insert(twoDarray, 0,[[21,22,23,24]], axis = 0)\n",
    "print(new2Darray)\n",
    "\n"
   ],
   "outputs": [
    {
     "output_type": "stream",
     "name": "stdout",
     "text": [
      "[[ 1 11 15 10  6]\n",
      " [ 2 10 14 11  5]\n",
      " [ 3 12 17 12  8]\n",
      " [ 4 15 18 14  9]]\n",
      "[[21 22 23 24]\n",
      " [11 15 10  6]\n",
      " [10 14 11  5]\n",
      " [12 17 12  8]\n",
      " [15 18 14  9]]\n"
     ]
    }
   ],
   "metadata": {}
  },
  {
   "cell_type": "markdown",
   "source": [
    "We can also use the append method to insert into array but that way only the last row or column can be selected."
   ],
   "metadata": {}
  },
  {
   "cell_type": "code",
   "execution_count": 5,
   "source": [
    "new2Darray1 = np.append(new2Darray,[[31,32,33,34]],axis = 0) ####Always appends last most row or column. No need to mention position\n",
    "print(new2Darray1)"
   ],
   "outputs": [
    {
     "output_type": "stream",
     "name": "stdout",
     "text": [
      "[[21 22 23 24]\n",
      " [11 15 10  6]\n",
      " [10 14 11  5]\n",
      " [12 17 12  8]\n",
      " [15 18 14  9]\n",
      " [31 32 33 34]]\n"
     ]
    }
   ],
   "metadata": {}
  },
  {
   "cell_type": "markdown",
   "source": [
    "Access an Element of Two Dimensional Array. a[i][j] where i is the row index and j is the column index. Index for both starts from 0."
   ],
   "metadata": {}
  },
  {
   "cell_type": "code",
   "execution_count": 7,
   "source": [
    "# lets make a new array\n",
    "newarr = np.array([[11,15,10,6],[10,14,11,5],[12,17,12,0],[15,18,14,9]])\n",
    "print(newarr)\n",
    "\n",
    "def accessElements(array,rowIndex,columnIndex):\n",
    "    if rowIndex >= len(array) and columnIndex >= len(array[0]):  \n",
    "        print(\"The inncorrect Index \")\n",
    "    else:\n",
    "        print(array[rowIndex][columnIndex])\n",
    "\n",
    "accessElements(newarr,2,1)\n",
    "\n",
    "## TIME COMPLEXITY: O(1)\n",
    "## SPACE COMPLEXITY: O(1)"
   ],
   "outputs": [
    {
     "output_type": "stream",
     "name": "stdout",
     "text": [
      "[[11 15 10  6]\n",
      " [10 14 11  5]\n",
      " [12 17 12  0]\n",
      " [15 18 14  9]]\n",
      "17\n"
     ]
    }
   ],
   "metadata": {}
  },
  {
   "cell_type": "markdown",
   "source": [
    "Traversal of a 2 Dimensional Array"
   ],
   "metadata": {}
  },
  {
   "cell_type": "code",
   "execution_count": 8,
   "source": [
    "def traverse2Darray(array):\n",
    "    for i in range(len(array)):\n",
    "        for j in range(len(array[0])):\n",
    "            print(array[i][j])\n",
    "\n",
    "traverse2Darray(newarr)"
   ],
   "outputs": [
    {
     "output_type": "stream",
     "name": "stdout",
     "text": [
      "11\n",
      "15\n",
      "10\n",
      "6\n",
      "10\n",
      "14\n",
      "11\n",
      "5\n",
      "12\n",
      "17\n",
      "12\n",
      "0\n",
      "15\n",
      "18\n",
      "14\n",
      "9\n"
     ]
    }
   ],
   "metadata": {}
  },
  {
   "cell_type": "markdown",
   "source": [
    "Searching elements in a 2-Dimensional Array. We will follow the linear search method to search the array."
   ],
   "metadata": {}
  },
  {
   "cell_type": "code",
   "execution_count": 9,
   "source": [
    "print(newarr)"
   ],
   "outputs": [
    {
     "output_type": "stream",
     "name": "stdout",
     "text": [
      "[[11 15 10  6]\n",
      " [10 14 11  5]\n",
      " [12 17 12  0]\n",
      " [15 18 14  9]]\n"
     ]
    }
   ],
   "metadata": {}
  },
  {
   "cell_type": "code",
   "execution_count": 13,
   "source": [
    "def search2Darray(array,value):\n",
    "    for i in range(len(array)):\n",
    "        for j in range(len(array[0])):\n",
    "            if array[i][j] == value:\n",
    "                return \"The element is found \"+str(i)+\" \"+str(j)\n",
    "    return \"The element is not found\"\n",
    "print(search2Darray(newarr,17))\n",
    "\n",
    "### Time Complexity is O(MN)"
   ],
   "outputs": [
    {
     "output_type": "stream",
     "name": "stdout",
     "text": [
      "The element is found 2 1\n"
     ]
    }
   ],
   "metadata": {}
  },
  {
   "cell_type": "markdown",
   "source": [
    "Delete elements for Two Dimensional Array"
   ],
   "metadata": {}
  },
  {
   "cell_type": "code",
   "execution_count": 15,
   "source": [
    "newarr = np.delete(newarr, 0, axis = 0)\n",
    "print(newarr)\n",
    "\n",
    "newarr = np.delete(newarr, 0, axis = 1)\n",
    "print(newarr)\n",
    "\n",
    "###Time Complexity is O(mn)\n",
    "###Space Complexity is O(1)"
   ],
   "outputs": [
    {
     "output_type": "stream",
     "name": "stdout",
     "text": [
      "[[12 17 12  0]\n",
      " [15 18 14  9]]\n",
      "[[17 12  0]\n",
      " [18 14  9]]\n"
     ]
    }
   ],
   "metadata": {}
  }
 ],
 "metadata": {
  "orig_nbformat": 4,
  "language_info": {
   "name": "python",
   "version": "3.8.8",
   "mimetype": "text/x-python",
   "codemirror_mode": {
    "name": "ipython",
    "version": 3
   },
   "pygments_lexer": "ipython3",
   "nbconvert_exporter": "python",
   "file_extension": ".py"
  },
  "kernelspec": {
   "name": "python3",
   "display_name": "Python 3.8.8 64-bit ('anaconda3': conda)"
  },
  "interpreter": {
   "hash": "6ce824ff5f4b21e1870c0a788fccd18759a4ebb0bc13b255fdea0cdb3e239b33"
  }
 },
 "nbformat": 4,
 "nbformat_minor": 2
}