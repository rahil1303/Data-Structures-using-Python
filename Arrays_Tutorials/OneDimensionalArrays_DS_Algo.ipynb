{
 "cells": [
  {
   "cell_type": "markdown",
   "source": [
    "BASICS OF DATA STRUCTURES AND ALGORITHMS\n",
    "\n",
    "ARRAYS: It is defined as the collection of similar types of data items stored at contiguous memory locations. It is basically stores multiple items of a same type together.\n",
    "\n",
    "Properties of ARRAYS:\n",
    "1. Arrays can store data of a specified type. \n",
    "2. Elements of an array are located in a contiguous. \n",
    "3. Each element of an array has a unique index.\n",
    "4. The size of an array is predefined and cannot be modified.\n",
    "\n",
    "AN ARRAY IS A DATA STRUCTURE CONSISTING OF A COLLECTION OF ELEMENTS EACH IDENTIFIED BY ATLEAST ONE ARRAY INDEX OR KEY. AN ARRAY IS STORED SUCH THAT THE POSITION OF EACH ELEMENT CAN BE COMPUTED FROM ITS INDEX BY A MATHEMATICAL FORMULA. \n",
    "\n",
    "TYPES OF ARRAYS:\n",
    "1. ONE DIMENSIONAL ARRAY: It is an array with a bunch of values having been declared with a single index. a[i] between 0 and n.\n",
    "2. TWO DIMENSIONAL ARRAY: An array with a bunch of values having been declared with a double index. a[i] [j]-> i and j between 0 and n.\n",
    "3. THREE DIMENSIONAL ARRAY: An array with a bunch of values having been declared with a triple index. \n",
    "a[i][j][k]-> i,j,k between 0 and n. a[0][0][1] where i = depth, j = row, k = column.\n",
    "\n",
    "\n",
    "IMPORTANT NOTE: AN ARRAY ELEMENTS MUST ALWAYS BE LOCATED NEXT TO EACH OTHER IN THE MEMORY.\n",
    "\n",
    "ONE DIMENSIONAL ARRAYS"
   ],
   "metadata": {}
  },
  {
   "cell_type": "markdown",
   "source": [
    "CREATING AN ARRAY: \n",
    "When we create an Array:\n",
    "1. Assign it to a variable\n",
    "2. Define the type of elements that it will store\n",
    "3. Define its size (the maximum number of elements)\n",
    "\n",
    "Suppose we define ann array of larger size and only some place of the array is occupied this is not likely scenario for an Array as this can cause Memory leak. "
   ],
   "metadata": {}
  },
  {
   "cell_type": "code",
   "execution_count": 3,
   "source": [
    "from array import *\n",
    "\n",
    "arr1 = array(\"i\",[1,2,3,4,5,6])\n",
    "\n",
    "print(arr1)\n",
    "\n",
    "arr2 = array(\"d\",[1.1,2.5,6.2])\n",
    "print(arr2)"
   ],
   "outputs": [
    {
     "output_type": "stream",
     "name": "stdout",
     "text": [
      "array('i', [1, 2, 3, 4, 5, 6])\n",
      "array('d', [1.1, 2.5, 6.2])\n"
     ]
    }
   ],
   "metadata": {}
  },
  {
   "cell_type": "markdown",
   "source": [
    "INSERTING ELEMENTS INSIDE AN ARRAY: \n",
    "The textbook method to insert a element array in a particular index is that we move each of the element that is before that specific index to the right and insert our element. But suppose our array has a million elements. What then? So in this case we can create a larger array and then insert the elments into the new array. \n",
    "\n",
    "BUT ALL THESE METHODS ARE TIME CONSUMING.\n",
    "\n",
    "arr1.insert(i,x) here i = index of array where we need to insert the array. x = the value of array we are going to insert.\n",
    "\n",
    "Note Array Indexing starts from 0.\n",
    "\n",
    "INSERTION OF AN ELEMENT IN ARRAY IN THE MIDDLE OR BEGINNEING THEN TIME COMPLEXITY IS O(n). IF THE ARRAY IS FULL AND WE INSERT AN ELEMENT EVEN THEN THE TIME COMPLEXITY OF THE ARRAY IS O(n).\n",
    "SUPPOSE WE NEED TO INSERT AN ELEMENT AT THE END OF THE ARRAY THEN THE TIME COMPLEXITY IS O(1)."
   ],
   "metadata": {}
  },
  {
   "cell_type": "code",
   "execution_count": 7,
   "source": [
    "#using the array created above arr1\n",
    "#Here we insert an element at the end of the array\n",
    "arr1.insert(7,9)\n",
    "print(arr1)\n",
    "\n",
    "#Here we insert an element in middle of the array\n",
    "arr1.insert(2,8)\n",
    "print(arr1)\n"
   ],
   "outputs": [
    {
     "output_type": "stream",
     "name": "stdout",
     "text": [
      "array('i', [1, 2, 8, 3, 4, 7, 5, 9, 6, 9, 7])\n",
      "array('i', [1, 2, 8, 8, 3, 4, 7, 5, 9, 6, 9, 7])\n"
     ]
    }
   ],
   "metadata": {}
  },
  {
   "cell_type": "markdown",
   "source": [
    "ARRAY TRAVERSAL: It means to access each element (item) stored in the array so that the data can be checked or used as part of a process. In most of the high level languages, it is necessary to create a variable that will track the position of the element currently being accessed. "
   ],
   "metadata": {}
  },
  {
   "cell_type": "code",
   "execution_count": 8,
   "source": [
    "#using the array created above arr1\n",
    "def traverseArray(array):\n",
    "    for i in array:\n",
    "        print(i)\n",
    "\n",
    "traverseArray(arr1)\n",
    "#Time Complexity is O(n)"
   ],
   "outputs": [
    {
     "output_type": "stream",
     "name": "stdout",
     "text": [
      "1\n",
      "2\n",
      "8\n",
      "8\n",
      "3\n",
      "4\n",
      "7\n",
      "5\n",
      "9\n",
      "6\n",
      "9\n",
      "7\n"
     ]
    }
   ],
   "metadata": {}
  },
  {
   "cell_type": "markdown",
   "source": [
    "Acessing an Array Element: To access an array element we will basically mention the index of which we require the value of. Follow the code mentioned Below:\n"
   ],
   "metadata": {}
  },
  {
   "cell_type": "code",
   "execution_count": 10,
   "source": [
    "def accessElement(array,index):\n",
    "    if index >= len(array):\n",
    "        print(\"There is not any element in this index\")\n",
    "    else:\n",
    "        print(array[index])\n",
    "\n",
    "accessElement(arr1,4)\n",
    "\n",
    "#TIME COMPLEXITY OF ABOVE CODE IS O(1)"
   ],
   "outputs": [
    {
     "output_type": "stream",
     "name": "stdout",
     "text": [
      "3\n"
     ]
    }
   ],
   "metadata": {}
  },
  {
   "cell_type": "markdown",
   "source": [
    "Searching an Element in the ARRAY:"
   ],
   "metadata": {}
  },
  {
   "cell_type": "code",
   "execution_count": 11,
   "source": [
    "def searchelement(array,value):\n",
    "    for i in array:\n",
    "        if i == value:\n",
    "            return array.index(value)\n",
    "    return \"The element does not exist in this array\"\n",
    "print(searchelement(arr1,5))"
   ],
   "outputs": [
    {
     "output_type": "stream",
     "name": "stdout",
     "text": [
      "7\n"
     ]
    }
   ],
   "metadata": {}
  },
  {
   "cell_type": "markdown",
   "source": [
    "Delete Elemenets from the Array: We need to remember that when we delete an element from the array the index from which the element is deleted is occupied with element next to it. We use array.remove(index number)"
   ],
   "metadata": {}
  },
  {
   "cell_type": "code",
   "execution_count": 16,
   "source": [
    "arr1.remove(2)\n",
    "print(arr1)"
   ],
   "outputs": [
    {
     "output_type": "stream",
     "name": "stdout",
     "text": [
      "array('i', [1, 8, 8, 3, 4, 7, 9, 6, 9, 7])\n"
     ]
    }
   ],
   "metadata": {}
  }
 ],
 "metadata": {
  "orig_nbformat": 4,
  "language_info": {
   "name": "python",
   "version": "3.8.8",
   "mimetype": "text/x-python",
   "codemirror_mode": {
    "name": "ipython",
    "version": 3
   },
   "pygments_lexer": "ipython3",
   "nbconvert_exporter": "python",
   "file_extension": ".py"
  },
  "kernelspec": {
   "name": "python3",
   "display_name": "Python 3.8.8 64-bit ('anaconda3': conda)"
  },
  "interpreter": {
   "hash": "6ce824ff5f4b21e1870c0a788fccd18759a4ebb0bc13b255fdea0cdb3e239b33"
  }
 },
 "nbformat": 4,
 "nbformat_minor": 2
}