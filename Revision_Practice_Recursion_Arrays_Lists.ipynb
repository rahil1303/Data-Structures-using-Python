{
 "cells": [
  {
   "cell_type": "code",
   "execution_count": null,
   "metadata": {},
   "outputs": [],
   "source": [
    "print(\"Hello World\")"
   ]
  },
  {
   "cell_type": "code",
   "execution_count": null,
   "metadata": {},
   "outputs": [],
   "source": [
    "def power(base,exp):\n",
    "    assert exp >= 0 and int(exp) == exp, \"The element entered is not a psitive integer\"\n",
    "    if exp == 0:\n",
    "        return 1\n",
    "    if exp == 1:\n",
    "        return base\n",
    "    else:\n",
    "        return base * power(base,exp-1)\n",
    "\n",
    "a = int(input())\n",
    "b = int(input())\n",
    "print(power(a,b))\n",
    "    "
   ]
  },
  {
   "cell_type": "code",
   "execution_count": null,
   "metadata": {},
   "outputs": [],
   "source": [
    "def fib(n):\n",
    "    assert n >= 0 and int(n) == n, \"The number must be positive integer\"\n",
    "    if n in [0,1]:\n",
    "        return 1\n",
    "    else:\n",
    "        return fib(n-1) + fib(n-2)\n",
    "fib(4)"
   ]
  },
  {
   "cell_type": "code",
   "execution_count": null,
   "metadata": {
    "scrolled": true
   },
   "outputs": [],
   "source": [
    "def factorial(n):\n",
    "    assert n >= 0 and int(n) == n, \"The number must be positive integer\"\n",
    "    \n",
    "    if n == 0:\n",
    "        return 0\n",
    "    if n == 1:\n",
    "        return 1\n",
    "    else:\n",
    "        return n * factorial(n-1)\n",
    "    \n",
    "factorial(6)"
   ]
  },
  {
   "cell_type": "code",
   "execution_count": null,
   "metadata": {},
   "outputs": [],
   "source": [
    "def sumofdigits(n):\n",
    "    if n in [0,1]:\n",
    "        return 0\n",
    "    else:\n",
    "        return int(n%10) + sumofdigits(int(n//10))\n",
    "\n",
    "sumofdigits(22)"
   ]
  },
  {
   "cell_type": "code",
   "execution_count": null,
   "metadata": {},
   "outputs": [],
   "source": [
    "def gcd(a,b):\n",
    "    assert int(a) == a and int(b) == b, \"The number must be a positive integer only\"\n",
    "    if a < 0:\n",
    "        a = -1*a\n",
    "    if b < 0:\n",
    "        b = -1*b\n",
    "    if b == 0:\n",
    "        return a\n",
    "    else:\n",
    "        return gcd(b,a%b)\n",
    "gcd(12,36)"
   ]
  },
  {
   "cell_type": "code",
   "execution_count": null,
   "metadata": {},
   "outputs": [],
   "source": [
    "def decimaltobinary(n):\n",
    "    if n == 0:\n",
    "        return 0\n",
    "    else:\n",
    "        return n%2 + 10 * decimaltobinary(n/2)\n",
    "    \n",
    "print(decimaltobinary(6))\n",
    "    "
   ]
  },
  {
   "cell_type": "code",
   "execution_count": null,
   "metadata": {},
   "outputs": [],
   "source": [
    "def reverse(strng):\n",
    "    if len(strng) <= 0:\n",
    "        return strng\n",
    "    else:\n",
    "        return strng[len(strng)-1] + reverse(strng[0:len(strng)-1])\n",
    "    \n",
    "print(reverse(\"strng\"))"
   ]
  },
  {
   "cell_type": "code",
   "execution_count": null,
   "metadata": {},
   "outputs": [],
   "source": [
    "def ispalindrome(n):\n",
    "    if len(n) == 0:\n",
    "        return True\n",
    "    if n[0] != n[len(n)-1]:\n",
    "        return False\n",
    "    else:\n",
    "        return ispalindrome(n[1:-1])\n",
    "ispalindrome(\"PYTHON\")"
   ]
  },
  {
   "cell_type": "code",
   "execution_count": null,
   "metadata": {},
   "outputs": [],
   "source": [
    "def flatten(arr):\n",
    "    resultarr = []\n",
    "    for custItem in arr:\n",
    "        if type(custItem) is list:\n",
    "            resultarr.extend(flatten(custItem))\n",
    "        else:\n",
    "            resultarr.append(custItem)\n",
    "    return resultarr\n",
    "\n",
    "flatten([1,2,3,[4,5]])"
   ]
  },
  {
   "cell_type": "code",
   "execution_count": null,
   "metadata": {},
   "outputs": [],
   "source": [
    "def capitalize(arr):\n",
    "    result = []\n",
    "    if len(arr) == 0:\n",
    "        return result\n",
    "    else: \n",
    "        result.append(arr[0][0].upper()+arr[0][1:])\n",
    "        return result + capitalize(arr[1:])\n",
    "    \n",
    "capitalize([\"apple\",\"banana\",\"grapes\"])"
   ]
  },
  {
   "cell_type": "code",
   "execution_count": 1,
   "metadata": {},
   "outputs": [
    {
     "name": "stdout",
     "output_type": "stream",
     "text": [
      "None\n"
     ]
    }
   ],
   "source": [
    "def findbiggestNumber(sampleArray):\n",
    "    biggestnumber = sampleArray[0]\n",
    "    for index in range(1,len(sampleArray)):\n",
    "        if sampleArray[index] > biggestnumber:\n",
    "            biggestnumber = sampleArray[index]"
   ]
  },
  {
   "cell_type": "code",
   "execution_count": 6,
   "metadata": {},
   "outputs": [
    {
     "name": "stdout",
     "output_type": "stream",
     "text": [
      "How many days temperature2\n",
      "Day1s high temp6\n",
      "Day2s high temp8\n",
      "\n",
      " Average 7.0\n",
      "1days above average\n"
     ]
    }
   ],
   "source": [
    "numdays = int(input(\"How many days temperature\"))\n",
    "total = 0\n",
    "temp = []\n",
    "for i in range(numdays):\n",
    "    nextday = int(input(\"Day\"+str(i+1)+\"s high temp\"))\n",
    "    temp.append(nextday)\n",
    "    total += temp[i]\n",
    "avg = round(total/numdays,2)\n",
    "print(\"\\n Average \"+str(avg))\n",
    "above = 0\n",
    "for i in temp:\n",
    "    if i > avg:\n",
    "        above += 1\n",
    "print(str(above)+\"days above average\")"
   ]
  },
  {
   "cell_type": "code",
   "execution_count": null,
   "metadata": {},
   "outputs": [],
   "source": []
  }
 ],
 "metadata": {
  "kernelspec": {
   "display_name": "Python 3",
   "language": "python",
   "name": "python3"
  },
  "language_info": {
   "codemirror_mode": {
    "name": "ipython",
    "version": 3
   },
   "file_extension": ".py",
   "mimetype": "text/x-python",
   "name": "python",
   "nbconvert_exporter": "python",
   "pygments_lexer": "ipython3",
   "version": "3.9.2+"
  }
 },
 "nbformat": 4,
 "nbformat_minor": 2
}
